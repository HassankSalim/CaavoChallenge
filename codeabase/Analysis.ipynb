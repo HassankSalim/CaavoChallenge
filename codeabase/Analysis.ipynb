{
 "cells": [
  {
   "cell_type": "code",
   "execution_count": 1,
   "metadata": {
    "collapsed": true
   },
   "outputs": [],
   "source": [
    "import matplotlib.pyplot as plt\n",
    "import matplotlib.image as mpimg\n",
    "import numpy as np\n",
    "from glob import glob\n",
    "import cv2\n",
    "import PIL\n",
    "from PIL import Image\n",
    "import json\n",
    "from math import ceil\n",
    "import pandas as pd"
   ]
  },
  {
   "cell_type": "code",
   "execution_count": 2,
   "metadata": {
    "collapsed": true
   },
   "outputs": [],
   "source": [
    "%matplotlib inline"
   ]
  },
  {
   "cell_type": "code",
   "execution_count": 11,
   "metadata": {
    "collapsed": true
   },
   "outputs": [],
   "source": [
    "train_path = '../dataset/train'\n",
    "img_extension= '.jpg'"
   ]
  },
  {
   "cell_type": "code",
   "execution_count": 12,
   "metadata": {
    "collapsed": true
   },
   "outputs": [],
   "source": [
    "img_filenames = glob(train_path + '/**/*.jpg')"
   ]
  },
  {
   "cell_type": "code",
   "execution_count": 18,
   "metadata": {
    "collapsed": false
   },
   "outputs": [],
   "source": [
    "def getHeightWidth(filename):\n",
    "    w, h = cv2.imread(filename, 0).shape\n",
    "    return w, h"
   ]
  },
  {
   "cell_type": "code",
   "execution_count": 20,
   "metadata": {
    "collapsed": false
   },
   "outputs": [],
   "source": [
    "height_width_list = map(getHeightWidth, img_filenames)"
   ]
  },
  {
   "cell_type": "code",
   "execution_count": 23,
   "metadata": {
    "collapsed": false
   },
   "outputs": [],
   "source": [
    "width_list, height_list = zip(*height_width_list)"
   ]
  },
  {
   "cell_type": "code",
   "execution_count": 26,
   "metadata": {
    "collapsed": false
   },
   "outputs": [],
   "source": [
    "avg_width = np.mean(width_list)\n",
    "avg_height = np.mean(height_list)\n",
    "\n",
    "std_width = np.std(width_list)\n",
    "std_height = np.std(height_list)"
   ]
  },
  {
   "cell_type": "code",
   "execution_count": 27,
   "metadata": {
    "collapsed": false
   },
   "outputs": [
    {
     "name": "stdout",
     "output_type": "stream",
     "text": [
      "205.814415691 166.597024387 49.0798965192 47.824756793\n"
     ]
    }
   ],
   "source": [
    "print(avg_width, avg_height, std_width, std_height)"
   ]
  },
  {
   "cell_type": "markdown",
   "metadata": {},
   "source": [
    "## Avg Width : 205.81\n",
    "## Avg Height : 166.60\n",
    "## Std Width : 49.08\n",
    "## Std Height : 47.82"
   ]
  },
  {
   "cell_type": "markdown",
   "metadata": {},
   "source": [
    "# Covers 95.4% of total images (stats)"
   ]
  },
  {
   "cell_type": "code",
   "execution_count": 29,
   "metadata": {
    "collapsed": true
   },
   "outputs": [],
   "source": [
    "upper_width_bound = int(avg_width + 2 * std_width)\n",
    "lower_width_bound = int(avg_width - 2 * std_width)\n",
    "\n",
    "upper_height_bound = int(avg_height + 2 * std_height)\n",
    "lower_height_bound = int(avg_height - 2 * std_height)"
   ]
  },
  {
   "cell_type": "code",
   "execution_count": 30,
   "metadata": {
    "collapsed": true
   },
   "outputs": [],
   "source": [
    "def isProperWidth(w):\n",
    "    return w >= lower_width_bound and w <= upper_width_bound \n",
    "\n",
    "def isProperHeight(h):\n",
    "    return h >= lower_height_bound and h <= upper_height_bound\n",
    "\n",
    "def isProperSize(filename):\n",
    "    w, h = getHeightWidth(filename)\n",
    "    return isProperWidth(w) and isProperHeight(h)"
   ]
  },
  {
   "cell_type": "code",
   "execution_count": 31,
   "metadata": {
    "collapsed": true
   },
   "outputs": [],
   "source": [
    "best_train_set = filter(isProperSize, img_filenames)"
   ]
  },
  {
   "cell_type": "code",
   "execution_count": 33,
   "metadata": {
    "collapsed": false
   },
   "outputs": [],
   "source": [
    "best_height_width_list = map(getHeightWidth, best_train_set)\n",
    "best_width_list, best_height_list = zip(*best_height_width_list)"
   ]
  },
  {
   "cell_type": "code",
   "execution_count": 40,
   "metadata": {
    "collapsed": false
   },
   "outputs": [],
   "source": [
    "best_avg_width = ceil(np.mean(best_width_list))\n",
    "best_avg_height = ceil(np.mean(best_height_list))"
   ]
  },
  {
   "cell_type": "code",
   "execution_count": 41,
   "metadata": {
    "collapsed": false
   },
   "outputs": [
    {
     "name": "stdout",
     "output_type": "stream",
     "text": [
      "209 162\n"
     ]
    }
   ],
   "source": [
    "print(best_avg_width, best_avg_height)"
   ]
  },
  {
   "cell_type": "code",
   "execution_count": 49,
   "metadata": {
    "collapsed": false
   },
   "outputs": [],
   "source": [
    "def getLabel(filename):\n",
    "    label = filename.split('/')[3]\n",
    "    return int(label)"
   ]
  },
  {
   "cell_type": "code",
   "execution_count": 57,
   "metadata": {
    "collapsed": false
   },
   "outputs": [],
   "source": [
    "best_train_set = filter(isProperSize, img_filenames)\n",
    "df = pd.DataFrame({'path' : list(best_train_set)})"
   ]
  },
  {
   "cell_type": "code",
   "execution_count": 59,
   "metadata": {
    "collapsed": false
   },
   "outputs": [
    {
     "data": {
      "text/html": [
       "<div>\n",
       "<style scoped>\n",
       "    .dataframe tbody tr th:only-of-type {\n",
       "        vertical-align: middle;\n",
       "    }\n",
       "\n",
       "    .dataframe tbody tr th {\n",
       "        vertical-align: top;\n",
       "    }\n",
       "\n",
       "    .dataframe thead th {\n",
       "        text-align: right;\n",
       "    }\n",
       "</style>\n",
       "<table border=\"1\" class=\"dataframe\">\n",
       "  <thead>\n",
       "    <tr style=\"text-align: right;\">\n",
       "      <th></th>\n",
       "      <th>path</th>\n",
       "    </tr>\n",
       "  </thead>\n",
       "  <tbody>\n",
       "    <tr>\n",
       "      <th>58262</th>\n",
       "      <td>../dataset/train/2/n03254046_1156_0.jpg</td>\n",
       "    </tr>\n",
       "    <tr>\n",
       "      <th>58263</th>\n",
       "      <td>../dataset/train/2/n03630383_2162_1.jpg</td>\n",
       "    </tr>\n",
       "    <tr>\n",
       "      <th>58264</th>\n",
       "      <td>../dataset/train/2/n03630383_3376_0.jpg</td>\n",
       "    </tr>\n",
       "    <tr>\n",
       "      <th>58265</th>\n",
       "      <td>../dataset/train/2/n03398228_6668_0.jpg</td>\n",
       "    </tr>\n",
       "    <tr>\n",
       "      <th>58266</th>\n",
       "      <td>../dataset/train/2/n04122492_3637_0.jpg</td>\n",
       "    </tr>\n",
       "  </tbody>\n",
       "</table>\n",
       "</div>"
      ],
      "text/plain": [
       "                                          path\n",
       "58262  ../dataset/train/2/n03254046_1156_0.jpg\n",
       "58263  ../dataset/train/2/n03630383_2162_1.jpg\n",
       "58264  ../dataset/train/2/n03630383_3376_0.jpg\n",
       "58265  ../dataset/train/2/n03398228_6668_0.jpg\n",
       "58266  ../dataset/train/2/n04122492_3637_0.jpg"
      ]
     },
     "execution_count": 59,
     "metadata": {},
     "output_type": "execute_result"
    }
   ],
   "source": [
    "df.tail()"
   ]
  },
  {
   "cell_type": "code",
   "execution_count": 60,
   "metadata": {
    "collapsed": true
   },
   "outputs": [],
   "source": [
    "df.to_csv('../dataset/best_dataset.csv')"
   ]
  }
 ],
 "metadata": {
  "kernelspec": {
   "display_name": "Python 3",
   "language": "python",
   "name": "python3"
  },
  "language_info": {
   "codemirror_mode": {
    "name": "ipython",
    "version": 3
   },
   "file_extension": ".py",
   "mimetype": "text/x-python",
   "name": "python",
   "nbconvert_exporter": "python",
   "pygments_lexer": "ipython3",
   "version": "3.5.2"
  }
 },
 "nbformat": 4,
 "nbformat_minor": 2
}
