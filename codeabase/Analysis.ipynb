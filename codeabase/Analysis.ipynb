{
 "cells": [
  {
   "cell_type": "code",
   "execution_count": 1,
   "metadata": {
    "collapsed": true
   },
   "outputs": [],
   "source": [
    "import matplotlib.pyplot as plt\n",
    "import matplotlib.image as mpimg\n",
    "import numpy as np\n",
    "from glob import glob\n",
    "import cv2\n",
    "import PIL\n",
    "from PIL import Image\n",
    "import json\n",
    "from math import ceil\n",
    "import pandas as pd"
   ]
  },
  {
   "cell_type": "code",
   "execution_count": 2,
   "metadata": {
    "collapsed": true
   },
   "outputs": [],
   "source": [
    "%matplotlib inline"
   ]
  },
  {
   "cell_type": "code",
   "execution_count": 11,
   "metadata": {
    "collapsed": true
   },
   "outputs": [],
   "source": [
    "train_path = '../dataset/train'\n",
    "img_extension= '.jpg'"
   ]
  },
  {
   "cell_type": "code",
   "execution_count": 12,
   "metadata": {
    "collapsed": true
   },
   "outputs": [],
   "source": [
    "img_filenames = glob(train_path + '/**/*.jpg')"
   ]
  },
  {
   "cell_type": "code",
   "execution_count": 18,
   "metadata": {
    "collapsed": false
   },
   "outputs": [],
   "source": [
    "def getHeightWidth(filename):\n",
    "    w, h = cv2.imread(filename, 0).shape\n",
    "    return w, h"
   ]
  },
  {
   "cell_type": "code",
   "execution_count": 20,
   "metadata": {
    "collapsed": false
   },
   "outputs": [],
   "source": [
    "height_width_list = map(getHeightWidth, img_filenames)"
   ]
  },
  {
   "cell_type": "code",
   "execution_count": 23,
   "metadata": {
    "collapsed": false
   },
   "outputs": [],
   "source": [
    "width_list, height_list = zip(*height_width_list)"
   ]
  },
  {
   "cell_type": "code",
   "execution_count": 26,
   "metadata": {
    "collapsed": false
   },
   "outputs": [],
   "source": [
    "avg_width = np.mean(width_list)\n",
    "avg_height = np.mean(height_list)\n",
    "\n",
    "std_width = np.std(width_list)\n",
    "std_height = np.std(height_list)"
   ]
  },
  {
   "cell_type": "code",
   "execution_count": 27,
   "metadata": {
    "collapsed": false
   },
   "outputs": [
    {
     "name": "stdout",
     "output_type": "stream",
     "text": [
      "205.814415691 166.597024387 49.0798965192 47.824756793\n"
     ]
    }
   ],
   "source": [
    "print(avg_width, avg_height, std_width, std_height)"
   ]
  },
  {
   "cell_type": "markdown",
   "metadata": {},
   "source": [
    "## Avg Width : 205.81\n",
    "## Avg Height : 166.60\n",
    "## Std Width : 49.08\n",
    "## Std Height : 47.82"
   ]
  },
  {
   "cell_type": "markdown",
   "metadata": {},
   "source": [
    "# Covers 95.4% of total images (stats)"
   ]
  },
  {
   "cell_type": "code",
   "execution_count": 29,
   "metadata": {
    "collapsed": true
   },
   "outputs": [],
   "source": [
    "upper_width_bound = int(avg_width + 2 * std_width)\n",
    "lower_width_bound = int(avg_width - 2 * std_width)\n",
    "\n",
    "upper_height_bound = int(avg_height + 2 * std_height)\n",
    "lower_height_bound = int(avg_height - 2 * std_height)"
   ]
  },
  {
   "cell_type": "code",
   "execution_count": 30,
   "metadata": {
    "collapsed": true
   },
   "outputs": [],
   "source": [
    "def isProperWidth(w):\n",
    "    return w >= lower_width_bound and w <= upper_width_bound \n",
    "\n",
    "def isProperHeight(h):\n",
    "    return h >= lower_height_bound and h <= upper_height_bound\n",
    "\n",
    "def isProperSize(filename):\n",
    "    w, h = getHeightWidth(filename)\n",
    "    return isProperWidth(w) and isProperHeight(h)"
   ]
  },
  {
   "cell_type": "code",
   "execution_count": 31,
   "metadata": {
    "collapsed": true
   },
   "outputs": [],
   "source": [
    "best_train_set = filter(isProperSize, img_filenames)"
   ]
  },
  {
   "cell_type": "code",
   "execution_count": 33,
   "metadata": {
    "collapsed": false
   },
   "outputs": [],
   "source": [
    "best_height_width_list = map(getHeightWidth, best_train_set)\n",
    "best_width_list, best_height_list = zip(*best_height_width_list)"
   ]
  },
  {
   "cell_type": "code",
   "execution_count": 40,
   "metadata": {
    "collapsed": false
   },
   "outputs": [],
   "source": [
    "best_avg_width = ceil(np.mean(best_width_list))\n",
    "best_avg_height = ceil(np.mean(best_height_list))"
   ]
  },
  {
   "cell_type": "code",
   "execution_count": 41,
   "metadata": {
    "collapsed": false
   },
   "outputs": [
    {
     "name": "stdout",
     "output_type": "stream",
     "text": [
      "209 162\n"
     ]
    }
   ],
   "source": [
    "print(best_avg_width, best_avg_height)"
   ]
  },
  {
   "cell_type": "code",
   "execution_count": 49,
   "metadata": {
    "collapsed": false
   },
   "outputs": [],
   "source": [
    "def getLabel(filename):\n",
    "    label = filename.split('/')[3]\n",
    "    return int(label)"
   ]
  },
  {
   "cell_type": "code",
   "execution_count": 57,
   "metadata": {
    "collapsed": false
   },
   "outputs": [],
   "source": [
    "best_train_set = filter(isProperSize, img_filenames)\n",
    "df = pd.DataFrame({'path' : list(best_train_set)})"
   ]
  },
  {
   "cell_type": "code",
   "execution_count": 59,
   "metadata": {
    "collapsed": false
   },
   "outputs": [
    {
     "data": {
      "text/html": [
       "<div>\n",
       "<style scoped>\n",
       "    .dataframe tbody tr th:only-of-type {\n",
       "        vertical-align: middle;\n",
       "    }\n",
       "\n",
       "    .dataframe tbody tr th {\n",
       "        vertical-align: top;\n",
       "    }\n",
       "\n",
       "    .dataframe thead th {\n",
       "        text-align: right;\n",
       "    }\n",
       "</style>\n",
       "<table border=\"1\" class=\"dataframe\">\n",
       "  <thead>\n",
       "    <tr style=\"text-align: right;\">\n",
       "      <th></th>\n",
       "      <th>path</th>\n",
       "    </tr>\n",
       "  </thead>\n",
       "  <tbody>\n",
       "    <tr>\n",
       "      <th>58262</th>\n",
       "      <td>../dataset/train/2/n03254046_1156_0.jpg</td>\n",
       "    </tr>\n",
       "    <tr>\n",
       "      <th>58263</th>\n",
       "      <td>../dataset/train/2/n03630383_2162_1.jpg</td>\n",
       "    </tr>\n",
       "    <tr>\n",
       "      <th>58264</th>\n",
       "      <td>../dataset/train/2/n03630383_3376_0.jpg</td>\n",
       "    </tr>\n",
       "    <tr>\n",
       "      <th>58265</th>\n",
       "      <td>../dataset/train/2/n03398228_6668_0.jpg</td>\n",
       "    </tr>\n",
       "    <tr>\n",
       "      <th>58266</th>\n",
       "      <td>../dataset/train/2/n04122492_3637_0.jpg</td>\n",
       "    </tr>\n",
       "  </tbody>\n",
       "</table>\n",
       "</div>"
      ],
      "text/plain": [
       "                                          path\n",
       "58262  ../dataset/train/2/n03254046_1156_0.jpg\n",
       "58263  ../dataset/train/2/n03630383_2162_1.jpg\n",
       "58264  ../dataset/train/2/n03630383_3376_0.jpg\n",
       "58265  ../dataset/train/2/n03398228_6668_0.jpg\n",
       "58266  ../dataset/train/2/n04122492_3637_0.jpg"
      ]
     },
     "execution_count": 59,
     "metadata": {},
     "output_type": "execute_result"
    }
   ],
   "source": [
    "df.tail()"
   ]
  },
  {
   "cell_type": "code",
   "execution_count": 1,
   "metadata": {
    "collapsed": false
   },
   "outputs": [
    {
     "ename": "NameError",
     "evalue": "name 'df' is not defined",
     "output_type": "error",
     "traceback": [
      "\u001b[0;31m---------------------------------------------------------------------------\u001b[0m",
      "\u001b[0;31mNameError\u001b[0m                                 Traceback (most recent call last)",
      "\u001b[0;32m<ipython-input-1-7ceb386a0c34>\u001b[0m in \u001b[0;36m<module>\u001b[0;34m()\u001b[0m\n\u001b[0;32m----> 1\u001b[0;31m \u001b[0mdf\u001b[0m\u001b[0;34m.\u001b[0m\u001b[0mto_csv\u001b[0m\u001b[0;34m(\u001b[0m\u001b[0;34m'../dataset/best_dataset.csv'\u001b[0m\u001b[0;34m)\u001b[0m\u001b[0;34m\u001b[0m\u001b[0m\n\u001b[0m",
      "\u001b[0;31mNameError\u001b[0m: name 'df' is not defined"
     ]
    }
   ],
   "source": [
    "df.to_csv('../dataset/best_dataset.csv')"
   ]
  },
  {
   "cell_type": "code",
   "execution_count": 2,
   "metadata": {
    "collapsed": true
   },
   "outputs": [],
   "source": [
    "import tensorflow as tf"
   ]
  },
  {
   "cell_type": "code",
   "execution_count": 3,
   "metadata": {
    "collapsed": true
   },
   "outputs": [],
   "source": [
    "def conv2d(x, W, b, strides=1):\n",
    "\tx = tf.nn.conv2d(x, W, strides=[1, strides, strides, 1], padding='SAME')\n",
    "\tx = tf.nn.bias_add(x, b)\n",
    "\treturn tf.nn.relu(x)\n",
    "\n",
    "def maxpool2d(x, k=2):\n",
    "\treturn tf.nn.max_pool(x, ksize=[1, k, k, 1], strides=[1, k, k, 1], padding='SAME')"
   ]
  },
  {
   "cell_type": "code",
   "execution_count": 5,
   "metadata": {
    "collapsed": false
   },
   "outputs": [],
   "source": [
    "n_input = [None, 162, 209, 3]\n",
    "n_classes = 15\n",
    "dropout = 0.75\n",
    "\n",
    "x = tf.placeholder(tf.float32, n_input)\n",
    "y = tf.placeholder(tf.float32, [None, n_classes])\n",
    "keep_prob = tf.placeholder(tf.float32)"
   ]
  },
  {
   "cell_type": "code",
   "execution_count": 24,
   "metadata": {
    "collapsed": false
   },
   "outputs": [],
   "source": [
    "def conv_net_vgg7(x, weights, biases, dropout):\n",
    "    \n",
    "        x = tf.reshape(x, shape=[-1, 162, 209, 3])\n",
    "        conv1 = conv2d(x, weights['wc1'], biases['bc1'])\n",
    "        conv1 = maxpool2d(conv1, 2)\n",
    "\n",
    "        conv2 = conv2d(conv1, weights['wc2'], biases['bc2'])\n",
    "        conv2 = maxpool2d(conv2, 2)\n",
    "        \n",
    "        conv3 = conv2d(conv2, weights['wc3'], biases['bc3'])\n",
    "        conv3 = maxpool2d(conv3, 2)\n",
    "        \n",
    "        conv4 = conv2d(conv3, weights['wc4'], biases['bc4'])\n",
    "        conv4 = maxpool2d(conv4, 2)\n",
    "        \n",
    "        conv5 = conv2d(conv4, weights['wc5'], biases['bc5'])\n",
    "        conv5 = maxpool2d(conv5, 2)\n",
    "        \n",
    "        conv6 = conv2d(conv5, weights['wc6'], biases['bc6'])\n",
    "        conv6 = maxpool2d(conv6, 1)\n",
    "        \n",
    "        fc1 = tf.reshape(conv6, [-1, weights['wd1'].get_shape().as_list()[0]])\n",
    "        fc1 = tf.add(tf.matmul(fc1, weights['wd1']), biases['bd1'])\n",
    "        fc1 = tf.nn.relu(fc1)\n",
    "        \n",
    "        fc1 = tf.nn.dropout(fc1, dropout)\n",
    "        out = tf.add(tf.matmul(fc1, weights['out']), biases['out'])\n",
    "        \n",
    "        return out"
   ]
  },
  {
   "cell_type": "code",
   "execution_count": 17,
   "metadata": {
    "collapsed": true
   },
   "outputs": [],
   "source": [
    "weights = {\n",
    "    # 5x5 conv, 1 input, 32 outputs\n",
    "    'wc1': tf.Variable(tf.random_normal([3, 3, 3, 64])),\n",
    "    # 5x5 conv, 32 inputs, 64 outputs\n",
    "    'wc2': tf.Variable(tf.random_normal([3, 3, 64, 128])),\n",
    "    'wc3': tf.Variable(tf.random_normal([3, 3, 128, 256])),\n",
    "    'wc4': tf.Variable(tf.random_normal([3, 3, 256, 512])),\n",
    "    'wc5': tf.Variable(tf.random_normal([3, 3, 512, 512])),\n",
    "    'wc6': tf.Variable(tf.random_normal([3, 3, 512, 512])),\n",
    "    # fully connected, 7*7*64 inputs, 1024 outputs\n",
    "    'wd1': tf.Variable(tf.random_normal([6*7*512, 4096])),\n",
    "    # 1024 inputs, 10 outputs (class prediction)\n",
    "    'out': tf.Variable(tf.random_normal([4096, n_classes]))\n",
    "}\n",
    "\n",
    "biases = {\n",
    "    'bc1': tf.Variable(tf.random_normal([64])),\n",
    "    'bc2': tf.Variable(tf.random_normal([128])),\n",
    "    'bc3': tf.Variable(tf.random_normal([256])),\n",
    "    'bc4': tf.Variable(tf.random_normal([512])),\n",
    "    'bc5': tf.Variable(tf.random_normal([512])),\n",
    "    'bc6': tf.Variable(tf.random_normal([512])),\n",
    "    'bd1': tf.Variable(tf.random_normal([4096])),\n",
    "    'out': tf.Variable(tf.random_normal([n_classes]))\n",
    "}"
   ]
  },
  {
   "cell_type": "code",
   "execution_count": 25,
   "metadata": {
    "collapsed": false
   },
   "outputs": [
    {
     "data": {
      "text/plain": [
       "<tf.Tensor 'Add_1:0' shape=(?, 15) dtype=float32>"
      ]
     },
     "execution_count": 25,
     "metadata": {},
     "output_type": "execute_result"
    }
   ],
   "source": [
    "conv_net_vgg7(x, weights, biases, dropout)"
   ]
  },
  {
   "cell_type": "code",
   "execution_count": null,
   "metadata": {
    "collapsed": true
   },
   "outputs": [],
   "source": []
  }
 ],
 "metadata": {
  "kernelspec": {
   "display_name": "Python 3",
   "language": "python",
   "name": "python3"
  },
  "language_info": {
   "codemirror_mode": {
    "name": "ipython",
    "version": 3
   },
   "file_extension": ".py",
   "mimetype": "text/x-python",
   "name": "python",
   "nbconvert_exporter": "python",
   "pygments_lexer": "ipython3",
   "version": "3.5.2"
  }
 },
 "nbformat": 4,
 "nbformat_minor": 2
}
